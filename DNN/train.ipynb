{
 "cells": [
  {
   "cell_type": "code",
   "execution_count": 1,
   "metadata": {},
   "outputs": [],
   "source": [
    "import DNN_orig\n",
    "import dataloader\n",
    "import torch\n",
    "from torch import nn\n",
    "torch.cuda.empty_cache()"
   ]
  },
  {
   "cell_type": "code",
   "execution_count": 2,
   "metadata": {},
   "outputs": [],
   "source": [
    "dr=dataloader.dataloader(0.99)\n",
    "train_input,train_lable=dr.train_load()\n",
    "lable_x=[tp[0] for tp in train_lable]"
   ]
  },
  {
   "cell_type": "code",
   "execution_count": 3,
   "metadata": {},
   "outputs": [],
   "source": [
    "lr=0.0000075\n",
    "ep=2500\n",
    "\n",
    "modelx=DNN_orig.DNN()\n",
    "\n",
    "modelx.load_train_data(train_input,lable_x)\n",
    "modelx.init()\n",
    "modelx.train()\n",
    "modelx.Train(ep,lr)\n",
    "modelx.eval()\n",
    "torch.save(modelx,'./modelx.pth')\n",
    "\n",
    "lr=0.0000075\n",
    "ep=2500\n",
    "\n",
    "modely=DNN_orig.DNN()\n",
    "lable_y=[tp[1] for tp in train_lable]\n",
    "modely.load_train_data(train_input,lable_y)\n",
    "modely.init()\n",
    "modely.train()\n",
    "modely.Train(ep,lr)\n",
    "modely.eval()\n",
    "torch.save(modely,'./modely.pth')\n",
    "\n",
    "\n",
    "ep=500\n",
    "lr=0.000001\n",
    "modelz=DNN_orig.DNN()\n",
    "lable_z=[tp[2] for tp in train_lable]\n",
    "modelz.load_train_data(train_input,lable_z)\n",
    "modelz.init()\n",
    "modelz.train()\n",
    "modelz.Train(ep,lr)\n",
    "modelz.eval()\n",
    "torch.save(modelz,'./modelz.pth')\n",
    "\n",
    "eval_input,eval_label=dr.test_load()\n",
    "\n",
    "\n",
    "\n",
    "print(\"start_predict\")\n",
    "\n",
    "for i in range(len(eval_input)):\n",
    "    # input()\n",
    "    print(eval_input[i])\n",
    "    resx = nn.functional.softmax(modelx(torch.tensor(eval_input[i],dtype=torch.float32).to(modelx.device)),dim=-1)\n",
    "    resy = nn.functional.softmax(modely(torch.tensor(eval_input[i],dtype=torch.float32).to(modely.device)),dim=-1)\n",
    "    resz = nn.functional.softmax(modelz(torch.tensor(eval_input[i],dtype=torch.float32).to(modelz.device)),dim=-1)\n",
    "\n",
    "    # 获取预测类别\n",
    "    pred_class_x = torch.argmax(resx).item()\n",
    "    pred_class_y = torch.argmax(resy).item()\n",
    "    pred_class_z = torch.argmax(resz).item()\n",
    "\n",
    "    print(f\"Predicted class for x: {pred_class_x}\")\n",
    "    print(f\"Predicted class for y: {pred_class_y}\")\n",
    "    print(f\"Predicted class for z: {pred_class_z}\")\n",
    "\n",
    "    print(eval_label[i])"
   ]
  },
  {
   "cell_type": "markdown",
   "metadata": {},
   "source": []
  }
 ],
 "metadata": {
  "kernelspec": {
   "display_name": "glm3",
   "language": "python",
   "name": "python3"
  },
  "language_info": {
   "codemirror_mode": {
    "name": "ipython",
    "version": 3
   },
   "file_extension": ".py",
   "mimetype": "text/x-python",
   "name": "python",
   "nbconvert_exporter": "python",
   "pygments_lexer": "ipython3",
   "version": "3.10.14"
  }
 },
 "nbformat": 4,
 "nbformat_minor": 2
}
